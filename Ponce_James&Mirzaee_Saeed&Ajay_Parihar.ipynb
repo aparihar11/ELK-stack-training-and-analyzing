{
 "cells": [
  {
   "cell_type": "markdown",
   "metadata": {},
   "source": [
    "## Part 3: ElasticSearch\n",
    "\n",
    "In part 2 we have performed streaming sentiment analysis. The Belgian dealer is pleased to see the results. Nevertheless he wants to go a step further. He wants to create a search engines:\n",
    "1) A search engine on his website to search for cars\n",
    "2) An internal search engine in which he can search the tweets for German cars\n",
    "\n",
    "The car dealer wants to be convinced of the power of ElasticSearch and askes you to run 15 queries. Are you able to construct these queries?"
   ]
  },
  {
   "cell_type": "markdown",
   "metadata": {},
   "source": [
    "### 3a) Indexes\n",
    "\n",
    "There are already two indexes (with types) available in ElasticSearch:\n",
    "* **/cars/cars_db**: An index/type containing the cars for sale on the Belgian market. This index is the result of the individual assignment.\n",
    "* **cars_twitter/tweets**: An index/type containing tweets about German cars. This index is the result of part 2 in this assignment.\n",
    "\n",
    "You first job is to look at the mappings. Can you answer the following questions:\n",
    "* What type is the field **age** in the /cars/cars_db index?\n",
    " AGE field is \"text\"\n",
    "* What type is the field **brandName** in the /cars/cars_db index?\n",
    " BRANDNAME field is \"text\"\n",
    "* What does the following key-value pair mean?\n",
    " A key-value pair (KVP) is an abstract data type that includes a group of key identifiers and a set of associated values. Key-value pairs are frequently used in lookup tables, hash tables and configuration files.\n",
    "* What does **\"ignore_above: 256\"** mean?\n",
    "Strings longer than the ignore_above setting will not be indexed or stored"
   ]
  },
  {
   "cell_type": "markdown",
   "metadata": {},
   "source": [
    "## 3b) Searching\n",
    "\n",
    "In this part, you need to perform queries in ElasticSearch (Kibana). Each query needs to be pasted into the %elasticsearch cell. In the %md cell \"Hits\" the number of hits should be entered. Finally, if an additional qestion is asked, you should answer in the %md cell with \"Answer\"."
   ]
  },
  {
   "cell_type": "markdown",
   "metadata": {},
   "source": [
    "### Question 1 (Example):\n",
    "Create a query that returns all the documents in the cars_twitter/tweets index.\n",
    "Was this easy?"
   ]
  },
  {
   "cell_type": "code",
   "execution_count": 1,
   "metadata": {},
   "outputs": [
    {
     "name": "stderr",
     "output_type": "stream",
     "text": [
      "UsageError: Line magic function `%elasticsearch` not found.\n"
     ]
    }
   ],
   "source": [
    "%elasticsearch\n",
    "GET /cars_twitter/tweets/_search\n",
    "{\n",
    "  \"query\": {\n",
    "    \"match_all\": {}\n",
    "  }\n",
    "}"
   ]
  },
  {
   "cell_type": "markdown",
   "metadata": {},
   "source": [
    "#### Hits\n",
    "6538"
   ]
  },
  {
   "cell_type": "markdown",
   "metadata": {},
   "source": [
    "### Question 2:\n",
    "Create a query that return all the **oldtimers** in the **cars/cars_db** index."
   ]
  },
  {
   "cell_type": "code",
   "execution_count": 1,
   "metadata": {},
   "outputs": [
    {
     "name": "stderr",
     "output_type": "stream",
     "text": [
      "UsageError: Line magic function `%elasticsearch` not found.\n"
     ]
    }
   ],
   "source": [
    "%elasticsearch\n",
    "####here we filtered the data based on age_group and value old timer\n",
    "GET /cars/cars_db/_search\n",
    "{\n",
    "  \"query\": {\n",
    "    \"match\": {\n",
    "      \"age_group\": \"oldtimer\"\n",
    "      }\n",
    "    }\n",
    "  }"
   ]
  },
  {
   "cell_type": "markdown",
   "metadata": {},
   "source": [
    "#### Hits\n",
    "\n",
    "14491"
   ]
  },
  {
   "cell_type": "markdown",
   "metadata": {},
   "source": [
    "### Question 3:\n",
    "Find all the German cars in the cars/cars_bd index."
   ]
  },
  {
   "cell_type": "code",
   "execution_count": null,
   "metadata": {
    "collapsed": true
   },
   "outputs": [],
   "source": [
    "%elasticsearch\n",
    "####we have the list of german cars \n",
    "GET /cars/car_db/_search\n",
    "{\n",
    "  \"query\": {\n",
    "    \"terms\": {\n",
    "      \"brandName.keyword\": [ \"Audi\", \"BMW\", \"Mercedes\", \"Opel\", \"Porsche\", \"Volkswagen\" ]\n",
    "    }\n",
    "  }\n",
    "}"
   ]
  },
  {
   "cell_type": "markdown",
   "metadata": {},
   "source": [
    "#### Hits\n",
    "13264"
   ]
  },
  {
   "cell_type": "markdown",
   "metadata": {},
   "source": [
    "### Question 4:\n",
    "\n",
    "Return all the cars with a **price** between 20000 and 30000."
   ]
  },
  {
   "cell_type": "code",
   "execution_count": null,
   "metadata": {
    "collapsed": true
   },
   "outputs": [],
   "source": [
    "%elasticsearch\n",
    "GET /cars/cars_db/_search\n",
    "{\n",
    "  \"query\": {\n",
    "    \"range\": {\n",
    "      \"sellingPrice\": {\n",
    "        \"gte\": 20000,\n",
    "        \"lte\": 30000\n",
    "      }\n",
    "    }\n",
    "  }\n",
    "}"
   ]
  },
  {
   "cell_type": "markdown",
   "metadata": {},
   "source": [
    "#### Hits\n",
    "5327"
   ]
  },
  {
   "cell_type": "markdown",
   "metadata": {},
   "source": [
    "### Question 5:\n",
    "\n",
    "Return the models of which the name only consist of numbers. (Hint: **regexp** query)"
   ]
  },
  {
   "cell_type": "code",
   "execution_count": null,
   "metadata": {
    "collapsed": true
   },
   "outputs": [],
   "source": [
    "%elasticsearch\n",
    "\n",
    "####we did regex filter for the numeric and also did not include characters\n",
    "GET /cars/cars_db/_search\n",
    "{\n",
    "  \"query\": {\n",
    "    \"bool\":{\n",
    "      \"filter\": [\n",
    "        {\n",
    "        \"regexp\": {\n",
    "          \"modelName\": \"[0-9]*\"\n",
    "          }\n",
    "        }\n",
    "      ],\n",
    "      \"must_not\": [\n",
    "        {\n",
    "        \"regexp\": {\n",
    "          \"modelName\": \"[a-zA-Z]*\"\n",
    "          }\n",
    "        }\n",
    "      ]\n",
    "    }\n",
    "  }\n",
    "}"
   ]
  },
  {
   "cell_type": "markdown",
   "metadata": {},
   "source": [
    "#### Hits\n",
    "\n",
    "2932"
   ]
  },
  {
   "cell_type": "markdown",
   "metadata": {},
   "source": [
    "### Question 6:\n",
    "Return the tweets that have a **brand** field that is not null."
   ]
  },
  {
   "cell_type": "code",
   "execution_count": null,
   "metadata": {
    "collapsed": true
   },
   "outputs": [],
   "source": [
    "%elasticsearch\n",
    "\n",
    "####here we use exist function\n",
    "GET /cars_twitter/tweets/_search\n",
    "{\n",
    "  \"query\": {\n",
    "    \"exists\": {\n",
    "      \"field\": \"brand\"\n",
    "    }\n",
    "  }\n",
    "}"
   ]
  },
  {
   "cell_type": "markdown",
   "metadata": {},
   "source": [
    "#### Hits\n",
    "500"
   ]
  },
  {
   "cell_type": "markdown",
   "metadata": {},
   "source": [
    "### Question 7:\n",
    "\n",
    "Return the tweets that contain **Mercedes** (case insensitive) in their text body.\n",
    "\n",
    "How come the car with id \"AV-XehVbcAXvn561YE47\" is include in the results, while no brand field is present for this car?"
   ]
  },
  {
   "cell_type": "code",
   "execution_count": 3,
   "metadata": {},
   "outputs": [
    {
     "name": "stderr",
     "output_type": "stream",
     "text": [
      "UsageError: Line magic function `%elasticsearch` not found.\n"
     ]
    }
   ],
   "source": [
    "%elasticsearch\n",
    "GET /cars_twitter/tweets/_search\n",
    "{\n",
    "  \"query\": {\n",
    "    \"match\": {\n",
    "      \"text\": \"mercedes\"\n",
    "    }\n",
    "  }\n",
    "}"
   ]
  },
  {
   "cell_type": "markdown",
   "metadata": {},
   "source": [
    "#### Hits\n",
    "81\n"
   ]
  },
  {
   "cell_type": "markdown",
   "metadata": {},
   "source": [
    "#### Answer\n",
    "Because we are only searching for tweets that have the word \"Mercedes\" in the text body without specifying anything about the brand name."
   ]
  },
  {
   "cell_type": "markdown",
   "metadata": {},
   "source": [
    "### Question 8:\n",
    "\n",
    "Return the tweets that have **audi** (case insensitive) in their **hashtags** or **mentions**"
   ]
  },
  {
   "cell_type": "code",
   "execution_count": null,
   "metadata": {
    "collapsed": true
   },
   "outputs": [],
   "source": [
    "%elasticsearch\n",
    "####since we \n",
    "{ \n",
    "  \"query\": { \n",
    "    \"bool\": { \n",
    "      \"should\": [{ \"match\": { \"entities_hashtags.text\":\"audi\" } }, \n",
    "                   { \"match\": { \"entities_user_mentions.text\":\"audi\" } }\n",
    "                 ] \n",
    "    } \n",
    "  } \n",
    "} "
   ]
  },
  {
   "cell_type": "markdown",
   "metadata": {},
   "source": [
    "#### Answer\n",
    "5"
   ]
  },
  {
   "cell_type": "markdown",
   "metadata": {},
   "source": [
    "### Question 9:\n",
    "\n",
    "Create a query that returns the tweets with the exact phrase **\"sports car\"** (case insensitive) in their text."
   ]
  },
  {
   "cell_type": "code",
   "execution_count": null,
   "metadata": {
    "collapsed": true
   },
   "outputs": [],
   "source": [
    "%elasticsearch\n",
    "\n",
    "####there is no results for this query###########\n",
    "GET /cars_twitter/tweets/_search \n",
    "{ \n",
    "    \"query\": { \n",
    "      \"bool\":{\n",
    "        \"should\": [{\"match_phrase\" : { \"text\" : \"sports car\" } },\n",
    "                   {\"match_phrase\" : { \"text\" : \"SPORTS CAR\" } }]\n",
    "      }\n",
    "    }\n",
    "}"
   ]
  },
  {
   "cell_type": "markdown",
   "metadata": {},
   "source": [
    "#### Hits\n",
    "0"
   ]
  },
  {
   "cell_type": "markdown",
   "metadata": {},
   "source": [
    "### Question 10:\n",
    "Return the tweets with **BMW** in their body that have a **positive sentiment**."
   ]
  },
  {
   "cell_type": "code",
   "execution_count": null,
   "metadata": {
    "collapsed": true
   },
   "outputs": [],
   "source": [
    "%elasticsearch\n",
    "\n",
    "#####we ran a search to include BMW and also postive sentiment\n",
    "GET /cars_twitter/tweets/_search \n",
    "{ \n",
    "  \"query\": { \n",
    "    \"bool\": { \n",
    "      \"must\": [ \n",
    "        { \n",
    "          \"match\": { \"text\":\"BMW\" } \n",
    "        }, \n",
    "        { \n",
    "          \"match\": { \"sentiment\":\"positive\" } \n",
    "        }        \n",
    "      ] \n",
    "    } \n",
    "  } \n",
    "} "
   ]
  },
  {
   "cell_type": "markdown",
   "metadata": {},
   "source": [
    "#### Hits\n",
    "16"
   ]
  },
  {
   "cell_type": "markdown",
   "metadata": {},
   "source": [
    "### Question 11:\n",
    "In ElasticSearch you can accomplish the same result with multiple queries. Can you create a query that returns the same results as question 10, while another query is executed?\n",
    "\n",
    "What is the difference in reasoning between the query you executed in question 10 and 11?"
   ]
  },
  {
   "cell_type": "code",
   "execution_count": null,
   "metadata": {
    "collapsed": true
   },
   "outputs": [],
   "source": [
    "%elasticsearch\n",
    "\n",
    "GET /cars_twitter/tweets/_search \n",
    "\n",
    "{ \n",
    "  \"query\": { \n",
    "    \"bool\": { \n",
    "      \"must\": [ \n",
    "        { \n",
    "          \"match\": { \"text\":\"BMW\" } \n",
    "        }, \n",
    "        { \n",
    "          \"term\": { \"sentiment\":{\"value\":\"positive\" }} \n",
    "        }        \n",
    "      ] \n",
    "    } \n",
    "  } \n",
    "} "
   ]
  },
  {
   "cell_type": "markdown",
   "metadata": {},
   "source": [
    "#### Hits\n",
    "\n",
    "16 "
   ]
  },
  {
   "cell_type": "markdown",
   "metadata": {},
   "source": [
    "### Question 12\n",
    "Return tweets that contain **Audi** that do **not** have a **positive sentiment**. Give priority to tweets that contain **R8** without excluding other tweets."
   ]
  },
  {
   "cell_type": "code",
   "execution_count": null,
   "metadata": {
    "collapsed": true
   },
   "outputs": [],
   "source": [
    "%elasticsearch\n",
    "\n",
    "############ first we filtered on Audi and sentiment not positive and we did a boosted to 2 for R8 \n",
    "GET /cars_twitter/tweets/_search  \n",
    "\n",
    "{ \n",
    "  \"query\": { \n",
    "    \"bool\": { \n",
    "      \"must\": [ \n",
    "        { \n",
    "          \"match\": { \"text\":\"Audi\" } \n",
    "        } \n",
    "      ], \n",
    "      \"must_not\": [ \n",
    "        { \n",
    "          \"match\": { \"sentiment\":\"positive\" } \n",
    "        } \n",
    "      ], \n",
    "      \"should\": [ \n",
    "        { \n",
    "          \"match\": { \n",
    "            \"text\": { \n",
    "               \"query\": \"R8\", \n",
    "                \"boost\": 2 \n",
    "            } \n",
    "          } \n",
    "        } \n",
    "      ] \n",
    "    } \n",
    "  } \n",
    "} \n",
    "\n",
    " "
   ]
  },
  {
   "cell_type": "markdown",
   "metadata": {},
   "source": [
    "#### Hits\n",
    "36"
   ]
  },
  {
   "cell_type": "markdown",
   "metadata": {},
   "source": [
    "### Question 13\n",
    "Similarly to question 12, find tweets about **Audi**, tweeted from **Singapore**, and have **no negative sentiment**. Give priority to tweets that contain **R8** without excluding other tweets."
   ]
  },
  {
   "cell_type": "code",
   "execution_count": null,
   "metadata": {
    "collapsed": true
   },
   "outputs": [],
   "source": [
    "%elasticsearch\n",
    "\n",
    "#####we ran the query but there were 0 results ##############\n",
    "GET /cars_twitter/tweets/_search \n",
    "{ \n",
    "  \"query\": { \n",
    "    \"bool\": { \n",
    "      \"must\": [ \n",
    "        { \n",
    "          \"match\": { \"text\":\"Audi\" } \n",
    "        }, \n",
    "        { \n",
    "          \"match\": { \"user_location\":\"Singapore\" } \n",
    "        } \n",
    "      ], \n",
    "      \"must_not\": [ \n",
    "        { \n",
    "          \"match\": { \"sentiment\":\"negative\" } \n",
    "        } \n",
    "      ], \n",
    "      \"should\": [ \n",
    "        { \n",
    "          \"match\": { \n",
    "            \"text\": { \n",
    "               \"query\": \"R8\", \n",
    "                \"boost\": 2 \n",
    "            } \n",
    "          } \n",
    "        } \n",
    "      ] \n",
    "    } \n",
    "  } \n",
    "} "
   ]
  },
  {
   "cell_type": "markdown",
   "metadata": {},
   "source": [
    "### Question 14\n",
    "Create a query that returns the **young German cars** that do **not** have a **mileage higher or equal to 10000 km**. Give priority to powerful cars with an **engine power greater or equal to 150 kW** without excluding other results.\n",
    "Note that we want to use this result on the webpage. We only want to show **3 variabels: \"brandName\", \"modelName\", and \"sellingPrice\"**. Additionally we want to use pagination and show only the second page showing results **10 - 20**."
   ]
  },
  {
   "cell_type": "code",
   "execution_count": null,
   "metadata": {
    "collapsed": true
   },
   "outputs": [],
   "source": [
    "%elasticsearch\n",
    "GET /cars/cars_db/_search\n",
    "{\n",
    "  \"_source\": [\"brandName\",\"modelName\",\"sellingPrice\"],\n",
    "  \"from\": 10,\n",
    "  \"size\": 11,\n",
    "  \"query\": {\n",
    "    \"bool\": {\n",
    "      \"must\": [\n",
    "    {\n",
    "    \"match\": {\n",
    "      \"age_group\": \"young\"\n",
    "      }\n",
    "    },\n",
    "    {\n",
    "        \"terms\": {\"brandName\": [\"porsche\", \"opel\", \"volkswagen\", \"audi\", \"mercedes\", \"bmw\"]\n",
    "    }}],      \n",
    "    {\n",
    "    \"range\": {\n",
    "      \"mileageValue\": {\n",
    "        \"lt\":10000\n",
    "        }\n",
    "      }\n",
    "    },\n",
    "    {\n",
    "    \"range\": {\n",
    "      \"enginePowerValue\": {\n",
    "        \"gte\":150,\n",
    "         \"boost\": 2\n",
    "            }\n",
    "          }\n",
    "        }\n",
    "      ]\n",
    "    }\n",
    "  }\n",
    "}"
   ]
  },
  {
   "cell_type": "markdown",
   "metadata": {},
   "source": [
    "#### Hits\n",
    "3"
   ]
  },
  {
   "cell_type": "markdown",
   "metadata": {},
   "source": [
    "### Question 15\n",
    "Finally you should run a query that returns the tweets having **english** as language and contain the phrase **Porche Boxster**. Note that the words \"Porsche\" and \"Boxster\" should be close to each other and **maximum 1 word** can be in between the two words. Additionally the tweets may **NOT** have a **negative sentiment**. For esthetic reasons, the searched terms (Porsche Boxster) should be **highlighted** in bold."
   ]
  },
  {
   "cell_type": "code",
   "execution_count": null,
   "metadata": {
    "collapsed": true
   },
   "outputs": [],
   "source": [
    "%elasticsearch\n",
    "GET /cars_twitter/tweets/_search\n",
    "{\n",
    "  \"query\": {\n",
    "    \"bool\": { \n",
    "      \"must\": [\n",
    "     {\"match\": {\"lang\": \"en\"}},\n",
    "    {\n",
    "    \"match_phrase\": {\n",
    "      \"text\": {\n",
    "        \"query\": \"Porsche Boxster\",\n",
    "        \"slop\": 1\n",
    "       }\n",
    "      }\n",
    "    }\n",
    "  ],\n",
    "      \"must_not\": [\n",
    "        {\n",
    "          \"match\": { \"sentiment\":\"negative\" } \n",
    "        }\n",
    "      ]\n",
    "    }\n",
    "  }, \n",
    "  \"highlight\": {\n",
    "    \"fields\": {\n",
    "      \"text\": {}\n",
    "    }\n",
    "  }\n",
    "}"
   ]
  },
  {
   "cell_type": "markdown",
   "metadata": {},
   "source": [
    "#### Hits\n",
    "0"
   ]
  },
  {
   "cell_type": "markdown",
   "metadata": {},
   "source": [
    "<img src=\"https://i.ytimg.com/vi/P4LhWSN3YSw/maxresdefault.jpg\" />"
   ]
  }
 ],
 "metadata": {
  "kernelspec": {
   "display_name": "Python 3",
   "language": "python",
   "name": "python3"
  },
  "language_info": {
   "codemirror_mode": {
    "name": "ipython",
    "version": 3
   },
   "file_extension": ".py",
   "mimetype": "text/x-python",
   "name": "python",
   "nbconvert_exporter": "python",
   "pygments_lexer": "ipython3",
   "version": "3.6.5"
  }
 },
 "nbformat": 4,
 "nbformat_minor": 2
}
